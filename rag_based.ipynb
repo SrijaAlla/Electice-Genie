{
  "cells": [
    {
      "cell_type": "code",
      "execution_count": null,
      "metadata": {
        "colab": {
          "base_uri": "https://localhost:8080/"
        },
        "id": "TYk9RPIJnyhT",
        "outputId": "6510ae47-a92c-4927-ec9d-54b8fce4362c"
      },
      "outputs": [
        {
          "output_type": "stream",
          "name": "stdout",
          "text": [
            "Mon Mar  4 22:34:51 2024       \n",
            "+---------------------------------------------------------------------------------------+\n",
            "| NVIDIA-SMI 535.104.05             Driver Version: 535.104.05   CUDA Version: 12.2     |\n",
            "|-----------------------------------------+----------------------+----------------------+\n",
            "| GPU  Name                 Persistence-M | Bus-Id        Disp.A | Volatile Uncorr. ECC |\n",
            "| Fan  Temp   Perf          Pwr:Usage/Cap |         Memory-Usage | GPU-Util  Compute M. |\n",
            "|                                         |                      |               MIG M. |\n",
            "|=========================================+======================+======================|\n",
            "|   0  Tesla T4                       Off | 00000000:00:04.0 Off |                    0 |\n",
            "| N/A   58C    P0              29W /  70W |      0MiB / 15360MiB |      0%      Default |\n",
            "|                                         |                      |                  N/A |\n",
            "+-----------------------------------------+----------------------+----------------------+\n",
            "                                                                                         \n",
            "+---------------------------------------------------------------------------------------+\n",
            "| Processes:                                                                            |\n",
            "|  GPU   GI   CI        PID   Type   Process name                            GPU Memory |\n",
            "|        ID   ID                                                             Usage      |\n",
            "|=======================================================================================|\n",
            "|  No running processes found                                                           |\n",
            "+---------------------------------------------------------------------------------------+\n"
          ]
        }
      ],
      "source": [
        "!nvidia-smi"
      ]
    },
    {
      "cell_type": "code",
      "execution_count": null,
      "metadata": {
        "colab": {
          "base_uri": "https://localhost:8080/"
        },
        "id": "7DjXr8QXdyIq",
        "outputId": "b0005552-f8e6-4f7c-86bb-50e9395447f3"
      },
      "outputs": [
        {
          "output_type": "stream",
          "name": "stdout",
          "text": [
            "  Installing build dependencies ... \u001b[?25l\u001b[?25hdone\n",
            "  Getting requirements to build wheel ... \u001b[?25l\u001b[?25hdone\n",
            "  Preparing metadata (pyproject.toml) ... \u001b[?25l\u001b[?25hdone\n"
          ]
        }
      ],
      "source": [
        "!pip -q install git+https://github.com/huggingface/transformers # need to install from github\n",
        "# !pip install -q datasets loralib sentencepiece\n",
        "!pip -q install bitsandbytes accelerate xformers einops\n",
        "!pip -q install langchain\n",
        "!pip install --upgrade --quiet  langchain-pinecone langchain\n",
        "!pip install --upgrade --quiet  langchain sentence_transformers"
      ]
    },
    {
      "cell_type": "code",
      "execution_count": null,
      "metadata": {
        "colab": {
          "base_uri": "https://localhost:8080/"
        },
        "id": "3sVWmKAdPROm",
        "outputId": "11104ca9-ad39-4ece-b8fe-4c6b545b35b2"
      },
      "outputs": [
        {
          "output_type": "stream",
          "name": "stdout",
          "text": [
            "\n",
            "    _|    _|  _|    _|    _|_|_|    _|_|_|  _|_|_|  _|      _|    _|_|_|      _|_|_|_|    _|_|      _|_|_|  _|_|_|_|\n",
            "    _|    _|  _|    _|  _|        _|          _|    _|_|    _|  _|            _|        _|    _|  _|        _|\n",
            "    _|_|_|_|  _|    _|  _|  _|_|  _|  _|_|    _|    _|  _|  _|  _|  _|_|      _|_|_|    _|_|_|_|  _|        _|_|_|\n",
            "    _|    _|  _|    _|  _|    _|  _|    _|    _|    _|    _|_|  _|    _|      _|        _|    _|  _|        _|\n",
            "    _|    _|    _|_|      _|_|_|    _|_|_|  _|_|_|  _|      _|    _|_|_|      _|        _|    _|    _|_|_|  _|_|_|_|\n",
            "\n",
            "    A token is already saved on your machine. Run `huggingface-cli whoami` to get more information or `huggingface-cli logout` if you want to log out.\n",
            "    Setting a new token will erase the existing one.\n",
            "    To login, `huggingface_hub` requires a token generated from https://huggingface.co/settings/tokens .\n",
            "Token: \n",
            "Add token as git credential? (Y/n) y\n",
            "Token is valid (permission: write).\n",
            "\u001b[1m\u001b[31mCannot authenticate through git-credential as no helper is defined on your machine.\n",
            "You might have to re-authenticate when pushing to the Hugging Face Hub.\n",
            "Run the following command in your terminal in case you want to set the 'store' credential helper as default.\n",
            "\n",
            "git config --global credential.helper store\n",
            "\n",
            "Read https://git-scm.com/book/en/v2/Git-Tools-Credential-Storage for more details.\u001b[0m\n",
            "Token has not been saved to git credential helper.\n",
            "Your token has been saved to /root/.cache/huggingface/token\n",
            "Login successful\n"
          ]
        }
      ],
      "source": [
        "!huggingface-cli login"
      ]
    },
    {
      "cell_type": "code",
      "execution_count": null,
      "metadata": {
        "id": "UC5uw5vtPXck",
        "colab": {
          "base_uri": "https://localhost:8080/"
        },
        "outputId": "d83b1e2a-88ce-4277-d98e-d57beac0684b"
      },
      "outputs": [
        {
          "output_type": "stream",
          "name": "stdout",
          "text": [
            "srija10\n"
          ]
        }
      ],
      "source": [
        "!huggingface-cli whoami"
      ]
    },
    {
      "cell_type": "code",
      "execution_count": null,
      "metadata": {
        "id": "8rrxjPBhd0e-"
      },
      "outputs": [],
      "source": [
        "from langchain_community.embeddings import HuggingFaceEmbeddings"
      ]
    },
    {
      "cell_type": "code",
      "execution_count": null,
      "metadata": {
        "id": "G7i9rw75NWnu",
        "colab": {
          "base_uri": "https://localhost:8080/"
        },
        "outputId": "76af8af9-15f2-40a1-e952-550d54596ee7"
      },
      "outputs": [
        {
          "output_type": "stream",
          "name": "stderr",
          "text": [
            "/usr/local/lib/python3.10/dist-packages/huggingface_hub/utils/_token.py:88: UserWarning: \n",
            "The secret `HF_TOKEN` does not exist in your Colab secrets.\n",
            "To authenticate with the Hugging Face Hub, create a token in your settings tab (https://huggingface.co/settings/tokens), set it as secret in your Google Colab and restart your session.\n",
            "You will be able to reuse this secret in all of your notebooks.\n",
            "Please note that authentication is recommended but still optional to access public models or datasets.\n",
            "  warnings.warn(\n"
          ]
        }
      ],
      "source": [
        "model_langchain = HuggingFaceEmbeddings(model_name=\"sentence-transformers/all-MiniLM-l6-v2\")"
      ]
    },
    {
      "cell_type": "code",
      "execution_count": null,
      "metadata": {
        "id": "R1amO9xsNZAv",
        "colab": {
          "base_uri": "https://localhost:8080/"
        },
        "outputId": "36b46e3e-bad9-4b8b-b292-d472d1db0340"
      },
      "outputs": [
        {
          "output_type": "stream",
          "name": "stdout",
          "text": [
            "Requirement already satisfied: sentence-transformers in /usr/local/lib/python3.10/dist-packages (2.5.1)\n",
            "Requirement already satisfied: transformers<5.0.0,>=4.32.0 in /usr/local/lib/python3.10/dist-packages (from sentence-transformers) (4.39.0.dev0)\n",
            "Requirement already satisfied: tqdm in /usr/local/lib/python3.10/dist-packages (from sentence-transformers) (4.66.2)\n",
            "Requirement already satisfied: torch>=1.11.0 in /usr/local/lib/python3.10/dist-packages (from sentence-transformers) (2.2.0)\n",
            "Requirement already satisfied: numpy in /usr/local/lib/python3.10/dist-packages (from sentence-transformers) (1.25.2)\n",
            "Requirement already satisfied: scikit-learn in /usr/local/lib/python3.10/dist-packages (from sentence-transformers) (1.2.2)\n",
            "Requirement already satisfied: scipy in /usr/local/lib/python3.10/dist-packages (from sentence-transformers) (1.11.4)\n",
            "Requirement already satisfied: huggingface-hub>=0.15.1 in /usr/local/lib/python3.10/dist-packages (from sentence-transformers) (0.20.3)\n",
            "Requirement already satisfied: Pillow in /usr/local/lib/python3.10/dist-packages (from sentence-transformers) (9.4.0)\n",
            "Requirement already satisfied: filelock in /usr/local/lib/python3.10/dist-packages (from huggingface-hub>=0.15.1->sentence-transformers) (3.13.1)\n",
            "Requirement already satisfied: fsspec>=2023.5.0 in /usr/local/lib/python3.10/dist-packages (from huggingface-hub>=0.15.1->sentence-transformers) (2023.6.0)\n",
            "Requirement already satisfied: requests in /usr/local/lib/python3.10/dist-packages (from huggingface-hub>=0.15.1->sentence-transformers) (2.31.0)\n",
            "Requirement already satisfied: pyyaml>=5.1 in /usr/local/lib/python3.10/dist-packages (from huggingface-hub>=0.15.1->sentence-transformers) (6.0.1)\n",
            "Requirement already satisfied: typing-extensions>=3.7.4.3 in /usr/local/lib/python3.10/dist-packages (from huggingface-hub>=0.15.1->sentence-transformers) (4.10.0)\n",
            "Requirement already satisfied: packaging>=20.9 in /usr/local/lib/python3.10/dist-packages (from huggingface-hub>=0.15.1->sentence-transformers) (23.2)\n",
            "Requirement already satisfied: sympy in /usr/local/lib/python3.10/dist-packages (from torch>=1.11.0->sentence-transformers) (1.12)\n",
            "Requirement already satisfied: networkx in /usr/local/lib/python3.10/dist-packages (from torch>=1.11.0->sentence-transformers) (3.2.1)\n",
            "Requirement already satisfied: jinja2 in /usr/local/lib/python3.10/dist-packages (from torch>=1.11.0->sentence-transformers) (3.1.3)\n",
            "Requirement already satisfied: nvidia-cuda-nvrtc-cu12==12.1.105 in /usr/local/lib/python3.10/dist-packages (from torch>=1.11.0->sentence-transformers) (12.1.105)\n",
            "Requirement already satisfied: nvidia-cuda-runtime-cu12==12.1.105 in /usr/local/lib/python3.10/dist-packages (from torch>=1.11.0->sentence-transformers) (12.1.105)\n",
            "Requirement already satisfied: nvidia-cuda-cupti-cu12==12.1.105 in /usr/local/lib/python3.10/dist-packages (from torch>=1.11.0->sentence-transformers) (12.1.105)\n",
            "Requirement already satisfied: nvidia-cudnn-cu12==8.9.2.26 in /usr/local/lib/python3.10/dist-packages (from torch>=1.11.0->sentence-transformers) (8.9.2.26)\n",
            "Requirement already satisfied: nvidia-cublas-cu12==12.1.3.1 in /usr/local/lib/python3.10/dist-packages (from torch>=1.11.0->sentence-transformers) (12.1.3.1)\n",
            "Requirement already satisfied: nvidia-cufft-cu12==11.0.2.54 in /usr/local/lib/python3.10/dist-packages (from torch>=1.11.0->sentence-transformers) (11.0.2.54)\n",
            "Requirement already satisfied: nvidia-curand-cu12==10.3.2.106 in /usr/local/lib/python3.10/dist-packages (from torch>=1.11.0->sentence-transformers) (10.3.2.106)\n",
            "Requirement already satisfied: nvidia-cusolver-cu12==11.4.5.107 in /usr/local/lib/python3.10/dist-packages (from torch>=1.11.0->sentence-transformers) (11.4.5.107)\n",
            "Requirement already satisfied: nvidia-cusparse-cu12==12.1.0.106 in /usr/local/lib/python3.10/dist-packages (from torch>=1.11.0->sentence-transformers) (12.1.0.106)\n",
            "Requirement already satisfied: nvidia-nccl-cu12==2.19.3 in /usr/local/lib/python3.10/dist-packages (from torch>=1.11.0->sentence-transformers) (2.19.3)\n",
            "Requirement already satisfied: nvidia-nvtx-cu12==12.1.105 in /usr/local/lib/python3.10/dist-packages (from torch>=1.11.0->sentence-transformers) (12.1.105)\n",
            "Requirement already satisfied: triton==2.2.0 in /usr/local/lib/python3.10/dist-packages (from torch>=1.11.0->sentence-transformers) (2.2.0)\n",
            "Requirement already satisfied: nvidia-nvjitlink-cu12 in /usr/local/lib/python3.10/dist-packages (from nvidia-cusolver-cu12==11.4.5.107->torch>=1.11.0->sentence-transformers) (12.3.101)\n",
            "Requirement already satisfied: regex!=2019.12.17 in /usr/local/lib/python3.10/dist-packages (from transformers<5.0.0,>=4.32.0->sentence-transformers) (2023.12.25)\n",
            "Requirement already satisfied: tokenizers<0.19,>=0.14 in /usr/local/lib/python3.10/dist-packages (from transformers<5.0.0,>=4.32.0->sentence-transformers) (0.15.2)\n",
            "Requirement already satisfied: safetensors>=0.4.1 in /usr/local/lib/python3.10/dist-packages (from transformers<5.0.0,>=4.32.0->sentence-transformers) (0.4.2)\n",
            "Requirement already satisfied: joblib>=1.1.1 in /usr/local/lib/python3.10/dist-packages (from scikit-learn->sentence-transformers) (1.3.2)\n",
            "Requirement already satisfied: threadpoolctl>=2.0.0 in /usr/local/lib/python3.10/dist-packages (from scikit-learn->sentence-transformers) (3.3.0)\n",
            "Requirement already satisfied: MarkupSafe>=2.0 in /usr/local/lib/python3.10/dist-packages (from jinja2->torch>=1.11.0->sentence-transformers) (2.1.5)\n",
            "Requirement already satisfied: charset-normalizer<4,>=2 in /usr/local/lib/python3.10/dist-packages (from requests->huggingface-hub>=0.15.1->sentence-transformers) (3.3.2)\n",
            "Requirement already satisfied: idna<4,>=2.5 in /usr/local/lib/python3.10/dist-packages (from requests->huggingface-hub>=0.15.1->sentence-transformers) (3.6)\n",
            "Requirement already satisfied: urllib3<3,>=1.21.1 in /usr/local/lib/python3.10/dist-packages (from requests->huggingface-hub>=0.15.1->sentence-transformers) (2.0.7)\n",
            "Requirement already satisfied: certifi>=2017.4.17 in /usr/local/lib/python3.10/dist-packages (from requests->huggingface-hub>=0.15.1->sentence-transformers) (2024.2.2)\n",
            "Requirement already satisfied: mpmath>=0.19 in /usr/local/lib/python3.10/dist-packages (from sympy->torch>=1.11.0->sentence-transformers) (1.3.0)\n"
          ]
        }
      ],
      "source": [
        "import locale\n",
        "locale.getpreferredencoding = lambda: \"UTF-8\"\n",
        "!pip install -U sentence-transformers\n",
        "from sentence_transformers import SentenceTransformer"
      ]
    },
    {
      "cell_type": "code",
      "execution_count": null,
      "metadata": {
        "id": "cHIN6y7DAW2A"
      },
      "outputs": [],
      "source": [
        "model = SentenceTransformer('sentence-transformers/all-MiniLM-L6-v2')"
      ]
    },
    {
      "cell_type": "code",
      "execution_count": null,
      "metadata": {
        "id": "0DgHgdz8N1Yh"
      },
      "outputs": [],
      "source": [
        "from pinecone import Pinecone\n",
        "from pinecone import PodSpec\n",
        "\n",
        "api_key = \"c46c6ae0-3403-455d-9b0c-97ece122839e\"\n",
        "environment = \"gcp-starter\"\n",
        "\n",
        "pc = Pinecone(api_key=api_key)\n",
        "spec = PodSpec(environment=environment)"
      ]
    },
    {
      "cell_type": "code",
      "execution_count": null,
      "metadata": {
        "id": "vpauH0qtfNu2",
        "colab": {
          "base_uri": "https://localhost:8080/"
        },
        "outputId": "e62e116f-f432-479f-ec0e-62bda7a0c417"
      },
      "outputs": [
        {
          "output_type": "execute_result",
          "data": {
            "text/plain": [
              "{'dimension': 384,\n",
              " 'index_fullness': 0.00221,\n",
              " 'namespaces': {'': {'vector_count': 221}},\n",
              " 'total_vector_count': 221}"
            ]
          },
          "metadata": {},
          "execution_count": 10
        }
      ],
      "source": [
        "index_name = \"courses-indexes\"\n",
        "\n",
        "index = pc.Index(index_name)\n",
        "\n",
        "# view index stats\n",
        "index.describe_index_stats()"
      ]
    },
    {
      "cell_type": "code",
      "execution_count": null,
      "metadata": {
        "id": "mM6V5eJxfxJ_",
        "colab": {
          "base_uri": "https://localhost:8080/"
        },
        "outputId": "87752a86-8156-4e51-8889-a6243dcb8254"
      },
      "outputs": [
        {
          "output_type": "stream",
          "name": "stderr",
          "text": [
            "/usr/local/lib/python3.10/dist-packages/langchain_core/_api/deprecation.py:117: LangChainDeprecationWarning: The class `langchain_community.vectorstores.pinecone.Pinecone` was deprecated in langchain-community 0.0.18 and will be removed in 0.2.0. An updated version of the class exists in the langchain-pinecone package and should be used instead. To use it run `pip install -U langchain-pinecone` and import as `from langchain_pinecone import Pinecone`.\n",
            "  warn_deprecated(\n"
          ]
        }
      ],
      "source": [
        "from langchain.vectorstores import Pinecone\n",
        "\n",
        "text_field = \"text\"  # the metadata field that contains our text\n",
        "\n",
        "# initialize the vector store object\n",
        "vectorstore = Pinecone(\n",
        "    index, model_langchain, text_field\n",
        ")"
      ]
    },
    {
      "cell_type": "code",
      "execution_count": null,
      "metadata": {
        "id": "jZH9-Db0gcA7",
        "colab": {
          "base_uri": "https://localhost:8080/"
        },
        "outputId": "a9e413f3-8518-4115-f0a6-5653d570fbf6"
      },
      "outputs": [
        {
          "output_type": "stream",
          "name": "stdout",
          "text": [
            "[(Document(page_content='CSE 509LEC - Advanced Blockchain ConceptsThe blockchain stack has five layers: decentralized applications, smart contracts, protocol, operating system, and network layers. This course focuses on the blockchain protocol layer, the support provided by the layers below it, and the algorithms and techniques supporting its design and implementation. Topics include Bitcoin and Ethereum blockchain protocols, state and storage management; consensus algorithms: scalability: side channel, block size, sharding, network-layer solutions; Universal digital identity; Confidentiality, security, and privacy methods: zero-knowledge proofs. Fungible and non-fungible tokens; Protocol improvement methods. This course is dual listed with CSE 409. Credits: 3'), 0.681824923)]\n",
            "(Document(page_content='CSE 509LEC - Advanced Blockchain ConceptsThe blockchain stack has five layers: decentralized applications, smart contracts, protocol, operating system, and network layers. This course focuses on the blockchain protocol layer, the support provided by the layers below it, and the algorithms and techniques supporting its design and implementation. Topics include Bitcoin and Ethereum blockchain protocols, state and storage management; consensus algorithms: scalability: side channel, block size, sharding, network-layer solutions; Universal digital identity; Confidentiality, security, and privacy methods: zero-knowledge proofs. Fungible and non-fungible tokens; Protocol improvement methods. This course is dual listed with CSE 409. Credits: 3'), 0.681824923)\n",
            "Document: page_content='CSE 509LEC - Advanced Blockchain ConceptsThe blockchain stack has five layers: decentralized applications, smart contracts, protocol, operating system, and network layers. This course focuses on the blockchain protocol layer, the support provided by the layers below it, and the algorithms and techniques supporting its design and implementation. Topics include Bitcoin and Ethereum blockchain protocols, state and storage management; consensus algorithms: scalability: side channel, block size, sharding, network-layer solutions; Universal digital identity; Confidentiality, security, and privacy methods: zero-knowledge proofs. Fungible and non-fungible tokens; Protocol improvement methods. This course is dual listed with CSE 409. Credits: 3'\n",
            "Similarity Score: 0.681824923\n",
            "--------------------\n"
          ]
        }
      ],
      "source": [
        "query = \"The blockchain stack has five layers: decentralized applications, smart contracts, protocol\"\n",
        "results = vectorstore.similarity_search_with_score(query, k=1)\n",
        "print(results)\n",
        "\n",
        "for result in results:\n",
        "    print(result)\n",
        "    doc, score = result\n",
        "    print(f\"Document: {doc}\")\n",
        "    print(f\"Similarity Score: {score}\")\n",
        "    print(\"-\" * 20)"
      ]
    },
    {
      "cell_type": "code",
      "execution_count": null,
      "metadata": {
        "id": "fh3JZuknY8RB"
      },
      "outputs": [],
      "source": [
        "extracted_doc = results[0][0]\n",
        "extracted_doc = str(extracted_doc)"
      ]
    },
    {
      "cell_type": "code",
      "execution_count": null,
      "metadata": {
        "id": "-WU2tFuEZ05_",
        "colab": {
          "base_uri": "https://localhost:8080/"
        },
        "outputId": "247dd3bb-7d5a-4753-9a28-1f8a6893f800"
      },
      "outputs": [
        {
          "output_type": "stream",
          "name": "stdout",
          "text": [
            "'CSE 509LEC - Advanced Blockchain ConceptsThe blockchain stack has five layers: decentralized applications, smart contracts, protocol, operating system, and network layers. This course focuses on the blockchain protocol layer, the support provided by the layers below it, and the algorithms and techniques supporting its design and implementation. Topics include Bitcoin and Ethereum blockchain protocols, state and storage management; consensus algorithms: scalability: side channel, block size, sharding, network-layer solutions; Universal digital identity; Confidentiality, security, and privacy methods: zero-knowledge proofs. Fungible and non-fungible tokens; Protocol improvement methods. This course is dual listed with CSE 409. Credits: 3'\n"
          ]
        }
      ],
      "source": [
        "content = extracted_doc.split('=', 1)[1]\n",
        "print(content)"
      ]
    },
    {
      "cell_type": "code",
      "execution_count": null,
      "metadata": {
        "id": "9rSDUww7J4oH",
        "colab": {
          "base_uri": "https://localhost:8080/",
          "height": 105,
          "referenced_widgets": [
            "88a2400c163b408380be2baa4b44110a",
            "8cb5664ca21c4a78a23082fb624d1616",
            "1784432c46364ea29bae5424c68a565b",
            "85d1a84a66e34e9f9d56f40da2cc6c64",
            "194be3d26bb2450f963003a791a61ec2",
            "d57d2018a6354cd1a17e876670d715ea",
            "468f4b01ccf24b63964b3aae4f2be652",
            "4e41885be629473e8d8cbaf7c66e0f3c",
            "7f2644bf9e99464b953a6e5f3dbe1f38",
            "c49ce7402d4e4917a28b0a7393c60d0e",
            "3a32fd40d0564a1b95954f2c06255dd3"
          ]
        },
        "outputId": "f7846d98-cbfd-477c-9520-8c1d383cab98"
      },
      "outputs": [
        {
          "output_type": "stream",
          "name": "stderr",
          "text": [
            "/usr/local/lib/python3.10/dist-packages/transformers/models/auto/tokenization_auto.py:728: FutureWarning: The `use_auth_token` argument is deprecated and will be removed in v5 of Transformers. Please use `token` instead.\n",
            "  warnings.warn(\n"
          ]
        },
        {
          "output_type": "display_data",
          "data": {
            "text/plain": [
              "Loading checkpoint shards:   0%|          | 0/2 [00:00<?, ?it/s]"
            ],
            "application/vnd.jupyter.widget-view+json": {
              "version_major": 2,
              "version_minor": 0,
              "model_id": "88a2400c163b408380be2baa4b44110a"
            }
          },
          "metadata": {}
        }
      ],
      "source": [
        "\n",
        "from transformers import pipeline\n",
        "from transformers import AutoTokenizer\n",
        "import torch\n",
        "# model = \"meta-llama/Llama-2-7b-chat-hf\"\n",
        "# model = 'google/flan-t5-large'\n",
        "model = 'meta-llama/Llama-2-7b-hf'\n",
        "tokenizer = AutoTokenizer.from_pretrained(model, use_auth_token=True,low_cpu_mem_usage=True)\n",
        "llama_pipeline = pipeline(\n",
        "    \"text-generation\",  # LLM task\n",
        "    model=model,\n",
        "    torch_dtype=torch.float16,\n",
        "    device_map=\"auto\",\n",
        ")\n",
        "\n",
        "# flan_pipeline = pipeline(\"text2text-generation\", model=\"google/flan-t5-small\", torch_dtype=torch.float16, device_map=\"auto\")"
      ]
    },
    {
      "cell_type": "code",
      "execution_count": null,
      "metadata": {
        "id": "-54np2gzbne4"
      },
      "outputs": [],
      "source": [
        "def get_response(prompt: str) -> None:\n",
        "    \"\"\"\n",
        "    Generate a response from the Llama model.\n",
        "\n",
        "    Parameters:\n",
        "        prompt (str): The user's input/question for the model.\n",
        "\n",
        "    Returns:\n",
        "        None: Prints the model's response.\n",
        "    \"\"\"\n",
        "    sequences = llama_pipeline(\n",
        "        prompt,\n",
        "        do_sample=True,\n",
        "        top_k=1,\n",
        "        num_return_sequences=1,\n",
        "        eos_token_id=tokenizer.eos_token_id,\n",
        "        max_length=1024,\n",
        "        truncation=True,\n",
        "    )\n",
        "    print(sequences)\n",
        "    print(\"Chatbot:\", sequences[0]['generated_text'])"
      ]
    },
    {
      "cell_type": "code",
      "execution_count": null,
      "metadata": {
        "id": "81P5Ehg4bqj2",
        "colab": {
          "base_uri": "https://localhost:8080/"
        },
        "outputId": "d3b7f3d7-97bd-426c-8732-46a2b468cba6"
      },
      "outputs": [
        {
          "output_type": "stream",
          "name": "stdout",
          "text": [
            "[{'generated_text': \"Hello, how are you?\\nI'm fine, thank you. How are you?\\nI'm fine, thank you.\\nI'm fine, thank you. How are you?\\nI'm fine, thank you. How are you?\\nI'm fine, thank you. How are you?\\nI'm fine, thank you. How are you?\\nI'm fine, thank you. How are you?\\nI'm fine, thank you. How are you?\\nI'm fine, thank you. How are you?\\nI'm fine, thank you. How are you?\\nI'm fine, thank you. How are you?\\nI'm fine, thank you. How are you?\\nI'm fine, thank you. How are you?\\nI'm fine, thank you. How are you?\\nI'm fine, thank you. How are you?\\nI'm fine, thank you. How are you?\\nI'm fine, thank you. How are you?\\nI'm fine, thank you. How are you?\\nI'm fine, thank you. How are you?\\nI'm fine, thank you. How are you?\\nI'm fine, thank you. How are you?\\nI'm fine, thank you. How are you?\\nI'm fine, thank you. How are you?\\nI'm fine, thank you. How are you?\\nI'm fine, thank you. How are you?\\nI'm fine, thank you. How are you?\\nI'm fine, thank you. How are you?\\nI'm fine, thank you. How are you?\\nI'm fine, thank you. How are you?\\nI'm fine, thank you. How are you?\\nI'm fine, thank you. How are you?\\nI'm fine, thank you. How are you?\\nI'm fine, thank you. How are you?\\nI'm fine, thank you. How are you?\\nI'm fine, thank you. How are you?\\nI'm fine, thank you. How are you?\\nI'm fine, thank you. How are you?\\nI'm fine, thank you. How are you?\\nI'm fine, thank you. How are you?\\nI'm fine, thank you. How are you?\\nI'm fine, thank you. How are you?\\nI'm fine, thank you. How are you?\\nI'm fine, thank you. How are you?\\nI'm fine, thank you. How are you?\\nI'm fine, thank you. How are you?\\nI'm fine, thank you. How are you?\\nI'm fine, thank you. How are you?\\nI'm fine, thank you. How are you?\\nI'm fine, thank you. How are you?\\nI'm fine, thank you. How are you?\\nI'm fine, thank you. How are you?\\nI'm fine, thank you. How are you?\\nI'm fine, thank you. How are you?\\nI'm fine, thank you. How are you?\\nI'm fine, thank you. How are you?\\nI'm fine, thank you. How are you?\\nI'm fine, thank you. How are you?\\nI'm fine, thank you. How are you?\\nI'm fine, thank you. How are you?\\nI'm fine, thank you. How are you?\\nI'm fine, thank you. How are you?\\nI'm fine, thank you. How are you?\\nI'm fine, thank you. How are you?\\nI'm fine, thank you. How are you?\\nI'm fine, thank you. How are you?\\nI'm fine, thank you. How are you?\\nI'm fine, thank you. How are you?\\nI'm fine, thank you. How are you?\\nI'm fine, thank you. How are you?\\nI'm fine, thank you. How are you?\\nI'm fine, thank you. How are you?\\nI'm fine, thank you. How are you?\\nI'm fine, thank you. How are you?\\nI'm fine, thank you. How are you?\\nI'm fine, thank you. How are you?\\nI'm fine, thank you. How are you?\\nI'm fine, thank you. How are you?\\nI'm fine, thank you. How are you?\\nI'm fine, thank you\"}]\n",
            "Chatbot: Hello, how are you?\n",
            "I'm fine, thank you. How are you?\n",
            "I'm fine, thank you.\n",
            "I'm fine, thank you. How are you?\n",
            "I'm fine, thank you. How are you?\n",
            "I'm fine, thank you. How are you?\n",
            "I'm fine, thank you. How are you?\n",
            "I'm fine, thank you. How are you?\n",
            "I'm fine, thank you. How are you?\n",
            "I'm fine, thank you. How are you?\n",
            "I'm fine, thank you. How are you?\n",
            "I'm fine, thank you. How are you?\n",
            "I'm fine, thank you. How are you?\n",
            "I'm fine, thank you. How are you?\n",
            "I'm fine, thank you. How are you?\n",
            "I'm fine, thank you. How are you?\n",
            "I'm fine, thank you. How are you?\n",
            "I'm fine, thank you. How are you?\n",
            "I'm fine, thank you. How are you?\n",
            "I'm fine, thank you. How are you?\n",
            "I'm fine, thank you. How are you?\n",
            "I'm fine, thank you. How are you?\n",
            "I'm fine, thank you. How are you?\n",
            "I'm fine, thank you. How are you?\n",
            "I'm fine, thank you. How are you?\n",
            "I'm fine, thank you. How are you?\n",
            "I'm fine, thank you. How are you?\n",
            "I'm fine, thank you. How are you?\n",
            "I'm fine, thank you. How are you?\n",
            "I'm fine, thank you. How are you?\n",
            "I'm fine, thank you. How are you?\n",
            "I'm fine, thank you. How are you?\n",
            "I'm fine, thank you. How are you?\n",
            "I'm fine, thank you. How are you?\n",
            "I'm fine, thank you. How are you?\n",
            "I'm fine, thank you. How are you?\n",
            "I'm fine, thank you. How are you?\n",
            "I'm fine, thank you. How are you?\n",
            "I'm fine, thank you. How are you?\n",
            "I'm fine, thank you. How are you?\n",
            "I'm fine, thank you. How are you?\n",
            "I'm fine, thank you. How are you?\n",
            "I'm fine, thank you. How are you?\n",
            "I'm fine, thank you. How are you?\n",
            "I'm fine, thank you. How are you?\n",
            "I'm fine, thank you. How are you?\n",
            "I'm fine, thank you. How are you?\n",
            "I'm fine, thank you. How are you?\n",
            "I'm fine, thank you. How are you?\n",
            "I'm fine, thank you. How are you?\n",
            "I'm fine, thank you. How are you?\n",
            "I'm fine, thank you. How are you?\n",
            "I'm fine, thank you. How are you?\n",
            "I'm fine, thank you. How are you?\n",
            "I'm fine, thank you. How are you?\n",
            "I'm fine, thank you. How are you?\n",
            "I'm fine, thank you. How are you?\n",
            "I'm fine, thank you. How are you?\n",
            "I'm fine, thank you. How are you?\n",
            "I'm fine, thank you. How are you?\n",
            "I'm fine, thank you. How are you?\n",
            "I'm fine, thank you. How are you?\n",
            "I'm fine, thank you. How are you?\n",
            "I'm fine, thank you. How are you?\n",
            "I'm fine, thank you. How are you?\n",
            "I'm fine, thank you. How are you?\n",
            "I'm fine, thank you. How are you?\n",
            "I'm fine, thank you. How are you?\n",
            "I'm fine, thank you. How are you?\n",
            "I'm fine, thank you. How are you?\n",
            "I'm fine, thank you. How are you?\n",
            "I'm fine, thank you. How are you?\n",
            "I'm fine, thank you. How are you?\n",
            "I'm fine, thank you. How are you?\n",
            "I'm fine, thank you. How are you?\n",
            "I'm fine, thank you. How are you?\n",
            "I'm fine, thank you. How are you?\n",
            "I'm fine, thank you. How are you?\n",
            "I'm fine, thank you. How are you?\n",
            "I'm fine, thank you\n"
          ]
        }
      ],
      "source": [
        "get_response(\"Hello, how are you?\")"
      ]
    },
    {
      "cell_type": "code",
      "execution_count": null,
      "metadata": {
        "id": "77TUkwRscd1I",
        "colab": {
          "base_uri": "https://localhost:8080/"
        },
        "outputId": "398b00a0-f7d8-492d-c97e-f4ecb367af5f"
      },
      "outputs": [
        {
          "output_type": "stream",
          "name": "stdout",
          "text": [
            "'CSE 526LEC - Blockchain Application DevelopmentThis course is intended for students interested in learning about the blockchain technology and in developing applications using the blockchain concepts. Topics include: blockchain peer-to-peer transactions, blocks of transactions, chain of blocks, chain integrity, and structure and operational details of a blockchain. Blockchain programming using smart contracts and decentralized application (Dapp) development will be discussed in detail using hands-on programming. Bitcoin and Ethereum blockchain protocols will be used to illustrate the various concepts, Solidity language for smart contract development, Remix and Truffle environments for Dapp development. This course is dual-listed with CSE 426.Credits: 3'\n"
          ]
        }
      ],
      "source": [
        "query = \"What is taught in Advanced Block chain Technology?\"\n",
        "results = vectorstore.similarity_search_with_score(query, k=1)\n",
        "print(str(results[0][0]).split('=', 1)[1])\n",
        "context = str(results[0][0]).split('=', 1)[1]\n"
      ]
    },
    {
      "cell_type": "code",
      "execution_count": null,
      "metadata": {
        "id": "TaSkKZK6c-cf",
        "colab": {
          "base_uri": "https://localhost:8080/"
        },
        "outputId": "993a5bcb-8612-4dbe-e733-025de00ccd1b"
      },
      "outputs": [
        {
          "output_type": "stream",
          "name": "stdout",
          "text": [
            "[{'generated_text': \"What is taught in Advanced Block chain Technology?'CSE 526LEC - Blockchain Application DevelopmentThis course is intended for students interested in learning about the blockchain technology and in developing applications using the blockchain concepts. Topics include: blockchain peer-to-peer transactions, blocks of transactions, chain of blocks, chain integrity, and structure and operational details of a blockchain. Blockchain programming using smart contracts and decentralized application (Dapp) development will be discussed in detail using hands-on programming. Bitcoin and Ethereum blockchain protocols will be used to illustrate the various concepts, Solidity language for smart contract development, Remix and Truffle environments for Dapp development. This course is dual-listed with CSE 426.Credits: 3'CSE 527LEC - Blockchain Application DevelopmentThis course is intended for students interested in learning about the blockchain technology and in developing applications using the blockchain concepts. Topics include: blockchain peer-to-peer transactions, blocks of transactions, chain of blocks, chain integrity, and structure and operational details of a blockchain. Blockchain programming using smart contracts and decentralized application (Dapp) development will be discussed in detail using hands-on programming. Bitcoin and Ethereum blockchain protocols will be used to illustrate the various concepts, Solidity language for smart contract development, Remix and Truffle environments for Dapp development. This course is dual-listed with CSE 427.Credits: 3'CSE 528LEC - Blockchain Application DevelopmentThis course is intended for students interested in learning about the blockchain technology and in developing applications using the blockchain concepts. Topics include: blockchain peer-to-peer transactions, blocks of transactions, chain of blocks, chain integrity, and structure and operational details of a blockchain. Blockchain programming using smart contracts and decentralized application (Dapp) development will be discussed in detail using hands-on programming. Bitcoin and Ethereum blockchain protocols will be used to illustrate the various concepts, Solidity language for smart contract development, Remix and Truffle environments for Dapp development. This course is dual-listed with CSE 428.Credits: 3'CSE 529LEC - Blockchain Application DevelopmentThis course is intended for students interested in learning about the blockchain technology and in developing applications using the blockchain concepts. Topics include: blockchain peer-to-peer transactions, blocks of transactions, chain of blocks, chain integrity, and structure and operational details of a blockchain. Blockchain programming using smart contracts and decentralized application (Dapp) development will be discussed in detail using hands-on programming. Bitcoin and Ethereum blockchain protocols will be used to illustrate the various concepts, Solidity language for smart contract development, Remix and Truffle environments for Dapp development. This course is dual-listed with CSE 429.Credits: 3'CSE 530LEC - Blockchain Application DevelopmentThis course is intended for students interested in learning about the blockchain technology and in developing applications using the blockchain concepts. Topics include: blockchain peer-to-peer transactions, blocks of transactions, chain of blocks, chain integrity, and structure and operational details of a blockchain. Blockchain programming using smart contracts and decentralized application (Dapp) development will be discussed in detail using hands-on programming. Bitcoin and Ethereum blockchain protocols will be used to illustrate the various concepts, Solidity language for smart contract development, Remix and Truffle environments for Dapp development. This course is dual-listed with CSE 430.Credits: 3'CSE 531LEC - Blockchain Application DevelopmentThis course is intended for students interested in learning about the blockchain technology and in developing applications using the blockchain concepts. Topics include: blockchain peer-to-peer transactions, blocks of transactions, chain of blocks, chain integrity, and structure and operational details of a blockchain. Blockchain programming using smart contracts and decentralized application (Dapp) development will be discussed in detail using hands-on programming. Bitcoin and Ethereum blockchain protocols will be used to illustrate the various concepts, Solidity language for smart contract development, Remix and Truffle environments for Dapp development. This course is dual-listed with CSE 431.Credits: 3'CSE 532LEC - Blockchain Application DevelopmentThis course is intended for students interested in learning about the blockchain technology and in developing applications using the blockchain concepts.\"}]\n",
            "Chatbot: What is taught in Advanced Block chain Technology?'CSE 526LEC - Blockchain Application DevelopmentThis course is intended for students interested in learning about the blockchain technology and in developing applications using the blockchain concepts. Topics include: blockchain peer-to-peer transactions, blocks of transactions, chain of blocks, chain integrity, and structure and operational details of a blockchain. Blockchain programming using smart contracts and decentralized application (Dapp) development will be discussed in detail using hands-on programming. Bitcoin and Ethereum blockchain protocols will be used to illustrate the various concepts, Solidity language for smart contract development, Remix and Truffle environments for Dapp development. This course is dual-listed with CSE 426.Credits: 3'CSE 527LEC - Blockchain Application DevelopmentThis course is intended for students interested in learning about the blockchain technology and in developing applications using the blockchain concepts. Topics include: blockchain peer-to-peer transactions, blocks of transactions, chain of blocks, chain integrity, and structure and operational details of a blockchain. Blockchain programming using smart contracts and decentralized application (Dapp) development will be discussed in detail using hands-on programming. Bitcoin and Ethereum blockchain protocols will be used to illustrate the various concepts, Solidity language for smart contract development, Remix and Truffle environments for Dapp development. This course is dual-listed with CSE 427.Credits: 3'CSE 528LEC - Blockchain Application DevelopmentThis course is intended for students interested in learning about the blockchain technology and in developing applications using the blockchain concepts. Topics include: blockchain peer-to-peer transactions, blocks of transactions, chain of blocks, chain integrity, and structure and operational details of a blockchain. Blockchain programming using smart contracts and decentralized application (Dapp) development will be discussed in detail using hands-on programming. Bitcoin and Ethereum blockchain protocols will be used to illustrate the various concepts, Solidity language for smart contract development, Remix and Truffle environments for Dapp development. This course is dual-listed with CSE 428.Credits: 3'CSE 529LEC - Blockchain Application DevelopmentThis course is intended for students interested in learning about the blockchain technology and in developing applications using the blockchain concepts. Topics include: blockchain peer-to-peer transactions, blocks of transactions, chain of blocks, chain integrity, and structure and operational details of a blockchain. Blockchain programming using smart contracts and decentralized application (Dapp) development will be discussed in detail using hands-on programming. Bitcoin and Ethereum blockchain protocols will be used to illustrate the various concepts, Solidity language for smart contract development, Remix and Truffle environments for Dapp development. This course is dual-listed with CSE 429.Credits: 3'CSE 530LEC - Blockchain Application DevelopmentThis course is intended for students interested in learning about the blockchain technology and in developing applications using the blockchain concepts. Topics include: blockchain peer-to-peer transactions, blocks of transactions, chain of blocks, chain integrity, and structure and operational details of a blockchain. Blockchain programming using smart contracts and decentralized application (Dapp) development will be discussed in detail using hands-on programming. Bitcoin and Ethereum blockchain protocols will be used to illustrate the various concepts, Solidity language for smart contract development, Remix and Truffle environments for Dapp development. This course is dual-listed with CSE 430.Credits: 3'CSE 531LEC - Blockchain Application DevelopmentThis course is intended for students interested in learning about the blockchain technology and in developing applications using the blockchain concepts. Topics include: blockchain peer-to-peer transactions, blocks of transactions, chain of blocks, chain integrity, and structure and operational details of a blockchain. Blockchain programming using smart contracts and decentralized application (Dapp) development will be discussed in detail using hands-on programming. Bitcoin and Ethereum blockchain protocols will be used to illustrate the various concepts, Solidity language for smart contract development, Remix and Truffle environments for Dapp development. This course is dual-listed with CSE 431.Credits: 3'CSE 532LEC - Blockchain Application DevelopmentThis course is intended for students interested in learning about the blockchain technology and in developing applications using the blockchain concepts.\n"
          ]
        }
      ],
      "source": [
        "chatbot = get_response(query + context)"
      ]
    },
    {
      "cell_type": "code",
      "execution_count": null,
      "metadata": {
        "id": "QzCTAIk3O23T",
        "colab": {
          "base_uri": "https://localhost:8080/"
        },
        "outputId": "f2d011ad-31cb-482f-d38c-c761aa509ce8"
      },
      "outputs": [
        {
          "output_type": "stream",
          "name": "stdout",
          "text": [
            "Collecting streamlit\n",
            "  Downloading streamlit-1.31.1-py2.py3-none-any.whl (8.4 MB)\n",
            "\u001b[2K     \u001b[90m━━━━━━━━━━━━━━━━━━━━━━━━━━━━━━━━━━━━━━━━\u001b[0m \u001b[32m8.4/8.4 MB\u001b[0m \u001b[31m25.4 MB/s\u001b[0m eta \u001b[36m0:00:00\u001b[0m\n",
            "\u001b[?25hRequirement already satisfied: altair<6,>=4.0 in /usr/local/lib/python3.10/dist-packages (from streamlit) (4.2.2)\n",
            "Requirement already satisfied: blinker<2,>=1.0.0 in /usr/lib/python3/dist-packages (from streamlit) (1.4)\n",
            "Requirement already satisfied: cachetools<6,>=4.0 in /usr/local/lib/python3.10/dist-packages (from streamlit) (5.3.3)\n",
            "Requirement already satisfied: click<9,>=7.0 in /usr/local/lib/python3.10/dist-packages (from streamlit) (8.1.7)\n",
            "Requirement already satisfied: importlib-metadata<8,>=1.4 in /usr/local/lib/python3.10/dist-packages (from streamlit) (7.0.1)\n",
            "Requirement already satisfied: numpy<2,>=1.19.3 in /usr/local/lib/python3.10/dist-packages (from streamlit) (1.25.2)\n",
            "Requirement already satisfied: packaging<24,>=16.8 in /usr/local/lib/python3.10/dist-packages (from streamlit) (23.2)\n",
            "Requirement already satisfied: pandas<3,>=1.3.0 in /usr/local/lib/python3.10/dist-packages (from streamlit) (1.5.3)\n",
            "Requirement already satisfied: pillow<11,>=7.1.0 in /usr/local/lib/python3.10/dist-packages (from streamlit) (9.4.0)\n",
            "Requirement already satisfied: protobuf<5,>=3.20 in /usr/local/lib/python3.10/dist-packages (from streamlit) (3.20.3)\n",
            "Requirement already satisfied: pyarrow>=7.0 in /usr/local/lib/python3.10/dist-packages (from streamlit) (14.0.2)\n",
            "Requirement already satisfied: python-dateutil<3,>=2.7.3 in /usr/local/lib/python3.10/dist-packages (from streamlit) (2.8.2)\n",
            "Requirement already satisfied: requests<3,>=2.27 in /usr/local/lib/python3.10/dist-packages (from streamlit) (2.31.0)\n",
            "Requirement already satisfied: rich<14,>=10.14.0 in /usr/local/lib/python3.10/dist-packages (from streamlit) (13.7.1)\n",
            "Requirement already satisfied: tenacity<9,>=8.1.0 in /usr/local/lib/python3.10/dist-packages (from streamlit) (8.2.3)\n",
            "Requirement already satisfied: toml<2,>=0.10.1 in /usr/local/lib/python3.10/dist-packages (from streamlit) (0.10.2)\n",
            "Requirement already satisfied: typing-extensions<5,>=4.3.0 in /usr/local/lib/python3.10/dist-packages (from streamlit) (4.10.0)\n",
            "Requirement already satisfied: tzlocal<6,>=1.1 in /usr/local/lib/python3.10/dist-packages (from streamlit) (5.2)\n",
            "Collecting validators<1,>=0.2 (from streamlit)\n",
            "  Downloading validators-0.22.0-py3-none-any.whl (26 kB)\n",
            "Collecting gitpython!=3.1.19,<4,>=3.0.7 (from streamlit)\n",
            "  Downloading GitPython-3.1.42-py3-none-any.whl (195 kB)\n",
            "\u001b[2K     \u001b[90m━━━━━━━━━━━━━━━━━━━━━━━━━━━━━━━━━━━━━━━━\u001b[0m \u001b[32m195.4/195.4 kB\u001b[0m \u001b[31m23.9 MB/s\u001b[0m eta \u001b[36m0:00:00\u001b[0m\n",
            "\u001b[?25hCollecting pydeck<1,>=0.8.0b4 (from streamlit)\n",
            "  Downloading pydeck-0.8.1b0-py2.py3-none-any.whl (4.8 MB)\n",
            "\u001b[2K     \u001b[90m━━━━━━━━━━━━━━━━━━━━━━━━━━━━━━━━━━━━━━━━\u001b[0m \u001b[32m4.8/4.8 MB\u001b[0m \u001b[31m55.2 MB/s\u001b[0m eta \u001b[36m0:00:00\u001b[0m\n",
            "\u001b[?25hRequirement already satisfied: tornado<7,>=6.0.3 in /usr/local/lib/python3.10/dist-packages (from streamlit) (6.3.2)\n",
            "Collecting watchdog>=2.1.5 (from streamlit)\n",
            "  Downloading watchdog-4.0.0-py3-none-manylinux2014_x86_64.whl (82 kB)\n",
            "\u001b[2K     \u001b[90m━━━━━━━━━━━━━━━━━━━━━━━━━━━━━━━━━━━━━━━━\u001b[0m \u001b[32m83.0/83.0 kB\u001b[0m \u001b[31m12.2 MB/s\u001b[0m eta \u001b[36m0:00:00\u001b[0m\n",
            "\u001b[?25hRequirement already satisfied: entrypoints in /usr/local/lib/python3.10/dist-packages (from altair<6,>=4.0->streamlit) (0.4)\n",
            "Requirement already satisfied: jinja2 in /usr/local/lib/python3.10/dist-packages (from altair<6,>=4.0->streamlit) (3.1.3)\n",
            "Requirement already satisfied: jsonschema>=3.0 in /usr/local/lib/python3.10/dist-packages (from altair<6,>=4.0->streamlit) (4.19.2)\n",
            "Requirement already satisfied: toolz in /usr/local/lib/python3.10/dist-packages (from altair<6,>=4.0->streamlit) (0.12.1)\n",
            "Collecting gitdb<5,>=4.0.1 (from gitpython!=3.1.19,<4,>=3.0.7->streamlit)\n",
            "  Downloading gitdb-4.0.11-py3-none-any.whl (62 kB)\n",
            "\u001b[2K     \u001b[90m━━━━━━━━━━━━━━━━━━━━━━━━━━━━━━━━━━━━━━━━\u001b[0m \u001b[32m62.7/62.7 kB\u001b[0m \u001b[31m9.6 MB/s\u001b[0m eta \u001b[36m0:00:00\u001b[0m\n",
            "\u001b[?25hRequirement already satisfied: zipp>=0.5 in /usr/local/lib/python3.10/dist-packages (from importlib-metadata<8,>=1.4->streamlit) (3.17.0)\n",
            "Requirement already satisfied: pytz>=2020.1 in /usr/local/lib/python3.10/dist-packages (from pandas<3,>=1.3.0->streamlit) (2023.4)\n",
            "Requirement already satisfied: six>=1.5 in /usr/local/lib/python3.10/dist-packages (from python-dateutil<3,>=2.7.3->streamlit) (1.16.0)\n",
            "Requirement already satisfied: charset-normalizer<4,>=2 in /usr/local/lib/python3.10/dist-packages (from requests<3,>=2.27->streamlit) (3.3.2)\n",
            "Requirement already satisfied: idna<4,>=2.5 in /usr/local/lib/python3.10/dist-packages (from requests<3,>=2.27->streamlit) (3.6)\n",
            "Requirement already satisfied: urllib3<3,>=1.21.1 in /usr/local/lib/python3.10/dist-packages (from requests<3,>=2.27->streamlit) (2.0.7)\n",
            "Requirement already satisfied: certifi>=2017.4.17 in /usr/local/lib/python3.10/dist-packages (from requests<3,>=2.27->streamlit) (2024.2.2)\n",
            "Requirement already satisfied: markdown-it-py>=2.2.0 in /usr/local/lib/python3.10/dist-packages (from rich<14,>=10.14.0->streamlit) (3.0.0)\n",
            "Requirement already satisfied: pygments<3.0.0,>=2.13.0 in /usr/local/lib/python3.10/dist-packages (from rich<14,>=10.14.0->streamlit) (2.16.1)\n",
            "Collecting smmap<6,>=3.0.1 (from gitdb<5,>=4.0.1->gitpython!=3.1.19,<4,>=3.0.7->streamlit)\n",
            "  Downloading smmap-5.0.1-py3-none-any.whl (24 kB)\n",
            "Requirement already satisfied: MarkupSafe>=2.0 in /usr/local/lib/python3.10/dist-packages (from jinja2->altair<6,>=4.0->streamlit) (2.1.5)\n",
            "Requirement already satisfied: attrs>=22.2.0 in /usr/local/lib/python3.10/dist-packages (from jsonschema>=3.0->altair<6,>=4.0->streamlit) (23.2.0)\n",
            "Requirement already satisfied: jsonschema-specifications>=2023.03.6 in /usr/local/lib/python3.10/dist-packages (from jsonschema>=3.0->altair<6,>=4.0->streamlit) (2023.12.1)\n",
            "Requirement already satisfied: referencing>=0.28.4 in /usr/local/lib/python3.10/dist-packages (from jsonschema>=3.0->altair<6,>=4.0->streamlit) (0.33.0)\n",
            "Requirement already satisfied: rpds-py>=0.7.1 in /usr/local/lib/python3.10/dist-packages (from jsonschema>=3.0->altair<6,>=4.0->streamlit) (0.18.0)\n",
            "Requirement already satisfied: mdurl~=0.1 in /usr/local/lib/python3.10/dist-packages (from markdown-it-py>=2.2.0->rich<14,>=10.14.0->streamlit) (0.1.2)\n",
            "Installing collected packages: watchdog, validators, smmap, pydeck, gitdb, gitpython, streamlit\n",
            "Successfully installed gitdb-4.0.11 gitpython-3.1.42 pydeck-0.8.1b0 smmap-5.0.1 streamlit-1.31.1 validators-0.22.0 watchdog-4.0.0\n"
          ]
        }
      ],
      "source": [
        "\n",
        "!pip install streamlit"
      ]
    },
    {
      "cell_type": "code",
      "execution_count": null,
      "metadata": {
        "id": "cpzk09KX-3Q-",
        "colab": {
          "base_uri": "https://localhost:8080/"
        },
        "outputId": "5de1b4d8-c0df-41ab-aaa8-44045ac1ea96"
      },
      "outputs": [
        {
          "output_type": "stream",
          "name": "stdout",
          "text": [
            "Writing app.py\n"
          ]
        }
      ],
      "source": [
        "%%writefile app.py"
      ]
    },
    {
      "cell_type": "code",
      "execution_count": null,
      "metadata": {
        "id": "-6O1aCcL-6lA",
        "colab": {
          "base_uri": "https://localhost:8080/"
        },
        "outputId": "bd73880a-c598-4552-d2c9-893fc4fce5fc"
      },
      "outputs": [
        {
          "output_type": "stream",
          "name": "stdout",
          "text": [
            "35.227.172.12\n"
          ]
        }
      ],
      "source": [
        "!wget -q -O - ipv4.icanhazip.com"
      ]
    },
    {
      "cell_type": "code",
      "execution_count": null,
      "metadata": {
        "id": "r3YDy2bv--R2",
        "colab": {
          "base_uri": "https://localhost:8080/"
        },
        "outputId": "c376638f-ff07-4011-c88e-63d67047b2c6"
      },
      "outputs": [
        {
          "metadata": {
            "tags": null
          },
          "name": "stdout",
          "output_type": "stream",
          "text": [
            "[..................] | fetchMetadata: sill resolveWithNewModule localtunnel@2.0\u001b[0m\u001b[K\n",
            "Collecting usage statistics. To deactivate, set browser.gatherUsageStats to False.\n",
            "\u001b[0m\n",
            "\u001b[0m\n",
            "\u001b[34m\u001b[1m  You can now view your Streamlit app in your browser.\u001b[0m\n",
            "\u001b[0m\n",
            "\u001b[34m  Network URL: \u001b[0m\u001b[1mhttp://172.28.0.12:8501\u001b[0m\n",
            "\u001b[34m  External URL: \u001b[0m\u001b[1mhttp://35.227.172.12:8501\u001b[0m\n",
            "\u001b[0m\n",
            "\u001b[K\u001b[?25hnpx: installed 22 in 6.941s\n",
            "your url is: https://cuddly-moles-stick.loca.lt\n"
          ]
        }
      ],
      "source": [
        "torch.cuda.empty_cache()\n",
        "!streamlit run app.py & npx localtunnel --port 8501"
      ]
    },
    {
      "cell_type": "code",
      "execution_count": null,
      "metadata": {
        "id": "-c2SxqJPB1I2"
      },
      "outputs": [],
      "source": []
    },
    {
      "cell_type": "code",
      "execution_count": null,
      "metadata": {
        "id": "Qba4ee2C3qMt"
      },
      "outputs": [],
      "source": [
        "# from langchain_core.prompts import PromptTemplate\n",
        "# template = \"\"\"\n",
        "#               Write a concise summary of the following text delimited by\n",
        "#               triple backquotes.\n",
        "#               Return your response in bullet points which covers the key\n",
        "#               points of the text.\n",
        "#               ```{text}```\n",
        "#               BULLET POINT SUMMARY:\n",
        "#            \"\"\"\n",
        "# prompt = PromptTemplate(template=template, input_variables=[\"text\"])\n"
      ]
    },
    {
      "cell_type": "code",
      "execution_count": null,
      "metadata": {
        "id": "lYwVcLCAYAi3"
      },
      "outputs": [],
      "source": [
        "# from transformers import AutoTokenizer\n",
        "# import transformers\n",
        "# import torch\n",
        "# from langchain.chains import RetrievalQA\n",
        "# from langchain import LLMChain\n",
        "# from langchain import HuggingFacePipeline\n",
        "\n",
        "# class RAGPipelineWrapper:\n",
        "#     def __init__(self, model, vectorstore):\n",
        "#         self.model = model\n",
        "#         self.vectorstore = vectorstore\n",
        "#         self.tokenizer = AutoTokenizer.from_pretrained(model, use_auth_token=True)\n",
        "#         self.pipeline = transformers.pipeline(\n",
        "#             \"text-generation\", #task\n",
        "#             model=model,\n",
        "#             tokenizer=self.tokenizer,\n",
        "#             torch_dtype=torch.bfloat16,\n",
        "#             trust_remote_code=True,\n",
        "#             device_map=\"auto\",\n",
        "#             max_length=1000,\n",
        "#             do_sample=True,\n",
        "#             top_k=1,\n",
        "#             num_return_sequences=1,\n",
        "#             eos_token_id=self.tokenizer.eos_token_id\n",
        "#         )\n",
        "#         self.llm = HuggingFacePipeline(pipeline=self.pipeline, model_kwargs={'temperature':0})\n",
        "#         self.rag_pipeline = RetrievalQA.from_chain_type(\n",
        "#             llm=self.llm,\n",
        "#             chain_type='stuff',\n",
        "#             retriever=vectorstore.as_retriever(),\n",
        "#             return_source_documents=True\n",
        "#         )\n",
        "\n",
        "#     def generate_response(self, prompt):\n",
        "#         return self.rag_pipeline(prompt)\n",
        "\n"
      ]
    }
  ],
  "metadata": {
    "accelerator": "GPU",
    "colab": {
      "gpuType": "T4",
      "provenance": []
    },
    "kernelspec": {
      "display_name": "Python 3",
      "name": "python3"
    },
    "language_info": {
      "name": "python"
    },
    "widgets": {
      "application/vnd.jupyter.widget-state+json": {
        "88a2400c163b408380be2baa4b44110a": {
          "model_module": "@jupyter-widgets/controls",
          "model_name": "HBoxModel",
          "model_module_version": "1.5.0",
          "state": {
            "_dom_classes": [],
            "_model_module": "@jupyter-widgets/controls",
            "_model_module_version": "1.5.0",
            "_model_name": "HBoxModel",
            "_view_count": null,
            "_view_module": "@jupyter-widgets/controls",
            "_view_module_version": "1.5.0",
            "_view_name": "HBoxView",
            "box_style": "",
            "children": [
              "IPY_MODEL_8cb5664ca21c4a78a23082fb624d1616",
              "IPY_MODEL_1784432c46364ea29bae5424c68a565b",
              "IPY_MODEL_85d1a84a66e34e9f9d56f40da2cc6c64"
            ],
            "layout": "IPY_MODEL_194be3d26bb2450f963003a791a61ec2"
          }
        },
        "8cb5664ca21c4a78a23082fb624d1616": {
          "model_module": "@jupyter-widgets/controls",
          "model_name": "HTMLModel",
          "model_module_version": "1.5.0",
          "state": {
            "_dom_classes": [],
            "_model_module": "@jupyter-widgets/controls",
            "_model_module_version": "1.5.0",
            "_model_name": "HTMLModel",
            "_view_count": null,
            "_view_module": "@jupyter-widgets/controls",
            "_view_module_version": "1.5.0",
            "_view_name": "HTMLView",
            "description": "",
            "description_tooltip": null,
            "layout": "IPY_MODEL_d57d2018a6354cd1a17e876670d715ea",
            "placeholder": "​",
            "style": "IPY_MODEL_468f4b01ccf24b63964b3aae4f2be652",
            "value": "Loading checkpoint shards: 100%"
          }
        },
        "1784432c46364ea29bae5424c68a565b": {
          "model_module": "@jupyter-widgets/controls",
          "model_name": "FloatProgressModel",
          "model_module_version": "1.5.0",
          "state": {
            "_dom_classes": [],
            "_model_module": "@jupyter-widgets/controls",
            "_model_module_version": "1.5.0",
            "_model_name": "FloatProgressModel",
            "_view_count": null,
            "_view_module": "@jupyter-widgets/controls",
            "_view_module_version": "1.5.0",
            "_view_name": "ProgressView",
            "bar_style": "success",
            "description": "",
            "description_tooltip": null,
            "layout": "IPY_MODEL_4e41885be629473e8d8cbaf7c66e0f3c",
            "max": 2,
            "min": 0,
            "orientation": "horizontal",
            "style": "IPY_MODEL_7f2644bf9e99464b953a6e5f3dbe1f38",
            "value": 2
          }
        },
        "85d1a84a66e34e9f9d56f40da2cc6c64": {
          "model_module": "@jupyter-widgets/controls",
          "model_name": "HTMLModel",
          "model_module_version": "1.5.0",
          "state": {
            "_dom_classes": [],
            "_model_module": "@jupyter-widgets/controls",
            "_model_module_version": "1.5.0",
            "_model_name": "HTMLModel",
            "_view_count": null,
            "_view_module": "@jupyter-widgets/controls",
            "_view_module_version": "1.5.0",
            "_view_name": "HTMLView",
            "description": "",
            "description_tooltip": null,
            "layout": "IPY_MODEL_c49ce7402d4e4917a28b0a7393c60d0e",
            "placeholder": "​",
            "style": "IPY_MODEL_3a32fd40d0564a1b95954f2c06255dd3",
            "value": " 2/2 [01:01&lt;00:00, 28.23s/it]"
          }
        },
        "194be3d26bb2450f963003a791a61ec2": {
          "model_module": "@jupyter-widgets/base",
          "model_name": "LayoutModel",
          "model_module_version": "1.2.0",
          "state": {
            "_model_module": "@jupyter-widgets/base",
            "_model_module_version": "1.2.0",
            "_model_name": "LayoutModel",
            "_view_count": null,
            "_view_module": "@jupyter-widgets/base",
            "_view_module_version": "1.2.0",
            "_view_name": "LayoutView",
            "align_content": null,
            "align_items": null,
            "align_self": null,
            "border": null,
            "bottom": null,
            "display": null,
            "flex": null,
            "flex_flow": null,
            "grid_area": null,
            "grid_auto_columns": null,
            "grid_auto_flow": null,
            "grid_auto_rows": null,
            "grid_column": null,
            "grid_gap": null,
            "grid_row": null,
            "grid_template_areas": null,
            "grid_template_columns": null,
            "grid_template_rows": null,
            "height": null,
            "justify_content": null,
            "justify_items": null,
            "left": null,
            "margin": null,
            "max_height": null,
            "max_width": null,
            "min_height": null,
            "min_width": null,
            "object_fit": null,
            "object_position": null,
            "order": null,
            "overflow": null,
            "overflow_x": null,
            "overflow_y": null,
            "padding": null,
            "right": null,
            "top": null,
            "visibility": null,
            "width": null
          }
        },
        "d57d2018a6354cd1a17e876670d715ea": {
          "model_module": "@jupyter-widgets/base",
          "model_name": "LayoutModel",
          "model_module_version": "1.2.0",
          "state": {
            "_model_module": "@jupyter-widgets/base",
            "_model_module_version": "1.2.0",
            "_model_name": "LayoutModel",
            "_view_count": null,
            "_view_module": "@jupyter-widgets/base",
            "_view_module_version": "1.2.0",
            "_view_name": "LayoutView",
            "align_content": null,
            "align_items": null,
            "align_self": null,
            "border": null,
            "bottom": null,
            "display": null,
            "flex": null,
            "flex_flow": null,
            "grid_area": null,
            "grid_auto_columns": null,
            "grid_auto_flow": null,
            "grid_auto_rows": null,
            "grid_column": null,
            "grid_gap": null,
            "grid_row": null,
            "grid_template_areas": null,
            "grid_template_columns": null,
            "grid_template_rows": null,
            "height": null,
            "justify_content": null,
            "justify_items": null,
            "left": null,
            "margin": null,
            "max_height": null,
            "max_width": null,
            "min_height": null,
            "min_width": null,
            "object_fit": null,
            "object_position": null,
            "order": null,
            "overflow": null,
            "overflow_x": null,
            "overflow_y": null,
            "padding": null,
            "right": null,
            "top": null,
            "visibility": null,
            "width": null
          }
        },
        "468f4b01ccf24b63964b3aae4f2be652": {
          "model_module": "@jupyter-widgets/controls",
          "model_name": "DescriptionStyleModel",
          "model_module_version": "1.5.0",
          "state": {
            "_model_module": "@jupyter-widgets/controls",
            "_model_module_version": "1.5.0",
            "_model_name": "DescriptionStyleModel",
            "_view_count": null,
            "_view_module": "@jupyter-widgets/base",
            "_view_module_version": "1.2.0",
            "_view_name": "StyleView",
            "description_width": ""
          }
        },
        "4e41885be629473e8d8cbaf7c66e0f3c": {
          "model_module": "@jupyter-widgets/base",
          "model_name": "LayoutModel",
          "model_module_version": "1.2.0",
          "state": {
            "_model_module": "@jupyter-widgets/base",
            "_model_module_version": "1.2.0",
            "_model_name": "LayoutModel",
            "_view_count": null,
            "_view_module": "@jupyter-widgets/base",
            "_view_module_version": "1.2.0",
            "_view_name": "LayoutView",
            "align_content": null,
            "align_items": null,
            "align_self": null,
            "border": null,
            "bottom": null,
            "display": null,
            "flex": null,
            "flex_flow": null,
            "grid_area": null,
            "grid_auto_columns": null,
            "grid_auto_flow": null,
            "grid_auto_rows": null,
            "grid_column": null,
            "grid_gap": null,
            "grid_row": null,
            "grid_template_areas": null,
            "grid_template_columns": null,
            "grid_template_rows": null,
            "height": null,
            "justify_content": null,
            "justify_items": null,
            "left": null,
            "margin": null,
            "max_height": null,
            "max_width": null,
            "min_height": null,
            "min_width": null,
            "object_fit": null,
            "object_position": null,
            "order": null,
            "overflow": null,
            "overflow_x": null,
            "overflow_y": null,
            "padding": null,
            "right": null,
            "top": null,
            "visibility": null,
            "width": null
          }
        },
        "7f2644bf9e99464b953a6e5f3dbe1f38": {
          "model_module": "@jupyter-widgets/controls",
          "model_name": "ProgressStyleModel",
          "model_module_version": "1.5.0",
          "state": {
            "_model_module": "@jupyter-widgets/controls",
            "_model_module_version": "1.5.0",
            "_model_name": "ProgressStyleModel",
            "_view_count": null,
            "_view_module": "@jupyter-widgets/base",
            "_view_module_version": "1.2.0",
            "_view_name": "StyleView",
            "bar_color": null,
            "description_width": ""
          }
        },
        "c49ce7402d4e4917a28b0a7393c60d0e": {
          "model_module": "@jupyter-widgets/base",
          "model_name": "LayoutModel",
          "model_module_version": "1.2.0",
          "state": {
            "_model_module": "@jupyter-widgets/base",
            "_model_module_version": "1.2.0",
            "_model_name": "LayoutModel",
            "_view_count": null,
            "_view_module": "@jupyter-widgets/base",
            "_view_module_version": "1.2.0",
            "_view_name": "LayoutView",
            "align_content": null,
            "align_items": null,
            "align_self": null,
            "border": null,
            "bottom": null,
            "display": null,
            "flex": null,
            "flex_flow": null,
            "grid_area": null,
            "grid_auto_columns": null,
            "grid_auto_flow": null,
            "grid_auto_rows": null,
            "grid_column": null,
            "grid_gap": null,
            "grid_row": null,
            "grid_template_areas": null,
            "grid_template_columns": null,
            "grid_template_rows": null,
            "height": null,
            "justify_content": null,
            "justify_items": null,
            "left": null,
            "margin": null,
            "max_height": null,
            "max_width": null,
            "min_height": null,
            "min_width": null,
            "object_fit": null,
            "object_position": null,
            "order": null,
            "overflow": null,
            "overflow_x": null,
            "overflow_y": null,
            "padding": null,
            "right": null,
            "top": null,
            "visibility": null,
            "width": null
          }
        },
        "3a32fd40d0564a1b95954f2c06255dd3": {
          "model_module": "@jupyter-widgets/controls",
          "model_name": "DescriptionStyleModel",
          "model_module_version": "1.5.0",
          "state": {
            "_model_module": "@jupyter-widgets/controls",
            "_model_module_version": "1.5.0",
            "_model_name": "DescriptionStyleModel",
            "_view_count": null,
            "_view_module": "@jupyter-widgets/base",
            "_view_module_version": "1.2.0",
            "_view_name": "StyleView",
            "description_width": ""
          }
        }
      }
    }
  },
  "nbformat": 4,
  "nbformat_minor": 0
}